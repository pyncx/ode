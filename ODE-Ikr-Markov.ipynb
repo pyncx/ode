{
 "cells": [
  {
   "cell_type": "markdown",
   "metadata": {},
   "source": [
    "## Ordinary Differential Equation"
   ]
  },
  {
   "cell_type": "code",
   "execution_count": 3,
   "metadata": {},
   "outputs": [],
   "source": [
    "import numpy as np\n",
    "from scipy.integrate import odeint\n",
    "import matplotlib.pyplot as plt\n",
    "import seaborn as sns\n",
    "sns.set()"
   ]
  },
  {
   "cell_type": "markdown",
   "metadata": {},
   "source": [
    "### $I_{Kr}$ Markov Model\n",
    "\n",
    "Reference: http://rudylab.wustl.edu/research/cell/methodology/markov/IKHTML/IKrmodel.htm"
   ]
  },
  {
   "cell_type": "markdown",
   "metadata": {},
   "source": [
    "![img](img/IKR.png)"
   ]
  },
  {
   "cell_type": "markdown",
   "metadata": {},
   "source": [
    "--------"
   ]
  },
  {
   "cell_type": "code",
   "execution_count": 49,
   "metadata": {},
   "outputs": [],
   "source": [
    "def model_ikr(y,t,v):\n",
    "    \n",
    "    '''state representation:\n",
    "       x[0] = C3, x[1] = C2, x[2] = C1\n",
    "       x[3] = O, x[4] = I'''\n",
    "    \n",
    "    F=96485\n",
    "    T=310\n",
    "    R=8314\n",
    "    k_o = 4.0\n",
    "    \n",
    "    '''define voltage dependent rate constant'''\n",
    "    alpha2=1.31e-2*np.exp(1.48*v*F/(R*T))\n",
    "    alpha1=2.17;\n",
    "    alpha=3.02e-2*np.exp(1.48*v*F/(R*T))\n",
    "    beta=2.90e-3*np.exp(-9.78e-1*v*F/(R*T))\n",
    "    beta1=1.08\n",
    "    beta2=3.30e-3*np.exp(-5.77e-1*v*F/(R*T))\n",
    "    alphai=5.45e-1*np.exp(-8.17e-1*v*F/(R*T))*4.5/k_o\n",
    "    betai=8.20e-1*np.exp(5.04e-1*v*F/(R*T))*(4.5/k_o)**0.3\n",
    "    mu=(alphai*beta2)/betai\n",
    "\n",
    "    '''define states'''\n",
    "    c3=y[0]\n",
    "    c2=y[1]\n",
    "    c1=y[2]\n",
    "    o=y[3]\n",
    "    i=y[4]\n",
    "\n",
    "    '''define simultaneous differential equations'''\n",
    "    dc3dt=beta*c2-alpha*c3;\n",
    "    dc2dt=beta1*c1+alpha*c3-(alpha1+beta)*c2;\n",
    "    dc1dt=alpha1*c2+beta2*o+mu*i-(beta1+2*alpha2)*c1;\n",
    "    dodt=alphai*i+alpha2*c1-(betai+beta2)*o;\n",
    "    didt=alpha2*c1+betai*o-(mu+alphai)*i;\n",
    "    \n",
    "    '''prepare return vector'''\n",
    "    dydt = [dc3dt,dc2dt,dc1dt,dodt,didt]\n",
    "    return dydt"
   ]
  },
  {
   "cell_type": "code",
   "execution_count": 67,
   "metadata": {},
   "outputs": [],
   "source": [
    "n = 40\n",
    "T =10\n",
    "\n",
    "# initial condition\n",
    "y0 = [1,0,0,0,0]\n",
    "v = np.linspace(-30,10,40)\n",
    "YY = [y0]\n",
    "\n",
    "y1,y2,y3,y4,y5 = [],[],[],[],[]\n",
    "\n",
    "for i in range(len(v)):\n",
    "    tspan = [t[i-1],t[i]]\n",
    "    '''solve ODEs'''\n",
    "    y = odeint(model_ikr,y0,tspan,args=(v[i],))\n",
    "    \n",
    "    y1.append(y[1][0])\n",
    "    y2.append(y[1][1])\n",
    "    y3.append(y[1][2])\n",
    "    y4.append(y[1][3])\n",
    "    y5.append(y[1][4])\n",
    "    \n",
    "    y0 = y[1]"
   ]
  },
  {
   "cell_type": "code",
   "execution_count": 70,
   "metadata": {},
   "outputs": [
    {
     "data": {
      "image/png": "[encoded data removed]",
      "text/plain": [
       "<Figure size 1080x360 with 1 Axes>"
      ]
     },
     "metadata": {
      "needs_background": "light"
     },
     "output_type": "display_data"
    }
   ],
   "source": [
    "# plot results\n",
    "plt.figure(figsize = [15,5])\n",
    "plt.plot(v,y1,linewidth=2,label='c3')\n",
    "plt.plot(v,y2,linewidth=2,label='C2')\n",
    "plt.plot(v,y3,linewidth=2,label='C1')\n",
    "plt.plot(v,y4,linewidth=2,label='O')\n",
    "plt.plot(v,y5,linewidth=2,label='I')\n",
    "plt.xlabel('time')\n",
    "plt.ylabel('y(t)')\n",
    "plt.legend()\n",
    "plt.show()"
   ]
  },
  {
   "cell_type": "code",
   "execution_count": null,
   "metadata": {},
   "outputs": [],
   "source": []
  },
  {
   "cell_type": "code",
   "execution_count": null,
   "metadata": {},
   "outputs": [],
   "source": []
  }
 ],
 "metadata": {
  "kernelspec": {
   "display_name": "Python 3",
   "language": "python",
   "name": "python3"
  },
  "language_info": {
   "codemirror_mode": {
    "name": "ipython",
    "version": 3
   },
   "file_extension": ".py",
   "mimetype": "text/x-python",
   "name": "python",
   "nbconvert_exporter": "python",
   "pygments_lexer": "ipython3",
   "version": "3.7.1"
  }
 },
 "nbformat": 4,
 "nbformat_minor": 2
}
