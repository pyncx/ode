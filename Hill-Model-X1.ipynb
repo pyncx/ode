{
 "cells": [
  {
   "cell_type": "markdown",
   "metadata": {},
   "source": [
    "### Regulation kinetics of Na+-Ca2+ exchange current in guinea-pig ventricular myocytes"
   ]
  },
  {
   "cell_type": "markdown",
   "metadata": {},
   "source": [
    "#### Import libraries"
   ]
  },
  {
   "cell_type": "code",
   "execution_count": 192,
   "metadata": {},
   "outputs": [],
   "source": [
    "import numpy as np\n",
    "from scipy.integrate import odeint\n",
    "import matplotlib.pyplot as plt\n",
    "import seaborn as sns\n",
    "sns.set()"
   ]
  },
  {
   "cell_type": "markdown",
   "metadata": {},
   "source": [
    "#### Define Constant"
   ]
  },
  {
   "cell_type": "code",
   "execution_count": 193,
   "metadata": {},
   "outputs": [],
   "source": [
    "Na = 10000\n",
    "Ca = 10000\n",
    "K_ci = 0.01*1e-3\n",
    "K_4ni = 8*1e-3\n",
    "K_3ni = 9*1e-3\n",
    "K_2ni = 9*1e-3\n",
    "K_1ni = 700*1e-3\n",
    "asym = 80*1e-3 \n",
    "V_m = 0*1e-3\n",
    "kvm = np.exp(2.0*V_m/53.08)\n",
    "K_Ca_act = 0.004*1e-3\n",
    "\n",
    "alpha1_Ca_on = 2.0\n",
    "alpha1_Ca_off = 1.5\n",
    "beta1_Ca_on = 1.2\n",
    "beta1_Ca_off = 0.0005\n",
    "\n",
    "alpha2_Ca_on = 0.03\n",
    "alpha2_Ca_off = 10\n",
    "beta2_Ca_on = 90\n",
    "beta2_Ca_off = 0.1"
   ]
  },
  {
   "cell_type": "code",
   "execution_count": 194,
   "metadata": {},
   "outputs": [],
   "source": [
    "D_i = (Na**4)*K_ci +\\\n",
    "      (Na**3)*K_ci*K_4ni +\\\n",
    "      (Na**2)*K_ci*K_4ni*K_3ni + \\\n",
    "      (Na**1)*K_ci*K_4ni*K_3ni*K_2ni + \\\n",
    "      K_ci*K_4ni*K_3ni*K_2ni*K_1ni + \\\n",
    "      Ca*K_4ni*K_3ni*K_2ni*K_1ni"
   ]
  },
  {
   "cell_type": "code",
   "execution_count": 195,
   "metadata": {},
   "outputs": [
    {
     "data": {
      "text/plain": [
       "100000080000072.0"
      ]
     },
     "execution_count": 195,
     "metadata": {},
     "output_type": "execute_result"
    }
   ],
   "source": [
    "D_i"
   ]
  },
  {
   "cell_type": "code",
   "execution_count": 209,
   "metadata": {},
   "outputs": [],
   "source": [
    "F_E14Na = (Na**4)*K_ci/D_i\n",
    "F_E1Ca = Ca*K_1ni*K_2ni*K_3ni*K_4ni/D_i\n",
    "\n",
    "F_E24Na = (Na**4)*K_ci/D_i\n",
    "F_E2Ca = Ca*K_1ni*K_2ni*K_3ni*K_4ni/D_i"
   ]
  },
  {
   "cell_type": "code",
   "execution_count": 210,
   "metadata": {},
   "outputs": [],
   "source": [
    "K_1no = (asym**0.25)*K_1ni\n",
    "K_2no = (asym**0.25)*K_2ni\n",
    "K_3no = (asym**0.25)*K_3ni\n",
    "K_4no = (asym**0.25)*K_4ni\n",
    "K_co =  (asym**0.25)*K_ci"
   ]
  },
  {
   "cell_type": "code",
   "execution_count": 211,
   "metadata": {},
   "outputs": [],
   "source": [
    "k1 = F_E14Na*1000*kvm\n",
    "k2 = F_E24Na*1000/kvm\n",
    "k3 = F_E2Ca*1000\n",
    "k4 = F_E1Ca*1000"
   ]
  },
  {
   "cell_type": "code",
   "execution_count": 212,
   "metadata": {},
   "outputs": [
    {
     "data": {
      "text/plain": [
       "[999.99919999992,\n",
       " 999.99919999992,\n",
       " 4.535996371199639e-14,\n",
       " 4.535996371199639e-14]"
      ]
     },
     "execution_count": 212,
     "metadata": {},
     "output_type": "execute_result"
    }
   ],
   "source": [
    "[k1,k2,k3,k4]"
   ]
  },
  {
   "cell_type": "code",
   "execution_count": 200,
   "metadata": {},
   "outputs": [],
   "source": [
    "F_Ca_act = Ca/(Ca+K_Ca_act)"
   ]
  },
  {
   "cell_type": "code",
   "execution_count": 201,
   "metadata": {},
   "outputs": [],
   "source": [
    "alpha1 = F_E14Na*((F_Ca_act*alpha1_Ca_on) + (1-F_Ca_act)*alpha1_Ca_off)\n",
    "beta1 = F_Ca_act*beta1_Ca_on + (1-F_Ca_act)*beta1_Ca_off"
   ]
  },
  {
   "cell_type": "code",
   "execution_count": 202,
   "metadata": {},
   "outputs": [],
   "source": [
    "alpha2 = F_Ca_act*alpha2_Ca_on + (1-F_Ca_act)*alpha2_Ca_off\n",
    "beta2 = F_Ca_act*beta2_Ca_on + (1-F_Ca_act)*beta2_Ca_off"
   ]
  },
  {
   "cell_type": "markdown",
   "metadata": {},
   "source": [
    "---------"
   ]
  },
  {
   "cell_type": "code",
   "execution_count": 203,
   "metadata": {},
   "outputs": [],
   "source": [
    "k = {\"alpha1\":alpha1,\"beta1\":beta1,\\\n",
    "    \"alpha2\":alpha2,\"beta2\":beta2,\\\n",
    "    \"k1\":k1,\"k2\":k2,\"k3\":k3,\"k4\":k4}"
   ]
  },
  {
   "cell_type": "code",
   "execution_count": 204,
   "metadata": {},
   "outputs": [],
   "source": [
    "# function that returns dy/dt\n",
    "def model(y,t,k):\n",
    "    \n",
    "    '''y[0] = FE1, y[1] = FI1, y[2] = FI2, y[3]=FE2'''\n",
    "    \n",
    "    dy1dt = y[3]*(k[\"k2\"]+k[\"k3\"]) + y[1]*k[\"beta1\"] +\\\n",
    "            y[2]*k[\"beta2\"] - y[0]*(k[\"k1\"]+\\\n",
    "            k[\"k4\"]+k[\"alpha1\"]+k[\"alpha2\"])\n",
    "    \n",
    "    dy2dt = y[0]*k[\"alpha1\"] - y[1]*k[\"beta1\"]\n",
    "    dy3dt = y[0]*k[\"alpha2\"] - y[2]*k[\"beta2\"]\n",
    "    dy4dt = 1 - (y[0] + y[1] + y[2])\n",
    "    \n",
    "    dydt = [dy1dt,dy2dt,dy3dt,dy4dt]\n",
    "    return dydt"
   ]
  },
  {
   "cell_type": "code",
   "execution_count": 205,
   "metadata": {},
   "outputs": [],
   "source": [
    "N = 1\n",
    "T = 10\n",
    "\n",
    "# initial condition\n",
    "y0 = [1,0,0,0]\n",
    "\n",
    "\n",
    "# time points\n",
    "t = np.linspace(0,T)\n",
    "\n",
    "\n",
    "'''solve ODEs'''\n",
    "y = odeint(model,y0,t,args=(k,))\n",
    "\n",
    "\n",
    "y1 = np.empty_like(t)\n",
    "y2 = np.empty_like(t)\n",
    "y3 = np.empty_like(t)\n",
    "y4 = np.empty_like(t)\n",
    "I  = np.empty_like(t)\n",
    "\n",
    "for i in range(len(t)):\n",
    "    y1[i] = y[i][0]\n",
    "    y2[i] = y[i][1]\n",
    "    y3[i] = y[i][2]\n",
    "    y4[i] = y[i][3]\n",
    "    I[i] = y[i][0]*k1 - y[i][3]*k2"
   ]
  },
  {
   "cell_type": "code",
   "execution_count": 207,
   "metadata": {},
   "outputs": [
    {
     "data": {
      "image/png": "[encoded data removed]",
      "text/plain": [
       "<Figure size 1080x360 with 1 Axes>"
      ]
     },
     "metadata": {},
     "output_type": "display_data"
    }
   ],
   "source": [
    "# plot results\n",
    "plt.figure(figsize = [15,5])\n",
    "plt.plot(t,y1,linewidth=2,label='FE1')\n",
    "plt.plot(t,y2,linewidth=2,label='FI1')\n",
    "plt.plot(t,y3,linewidth=2,label='FI2')\n",
    "plt.plot(t,y4,linewidth=2,label='FE2')\n",
    "#plt.plot(t,I,linewidth=2,label='I')\n",
    "plt.xlabel('time')\n",
    "plt.ylabel('y(t)')\n",
    "plt.legend()\n",
    "plt.show()"
   ]
  },
  {
   "cell_type": "code",
   "execution_count": 208,
   "metadata": {},
   "outputs": [
    {
     "data": {
      "image/png": "[encoded data removed]",
      "text/plain": [
       "<Figure size 1080x360 with 1 Axes>"
      ]
     },
     "metadata": {},
     "output_type": "display_data"
    }
   ],
   "source": [
    "# plot results\n",
    "plt.figure(figsize = [15,5])\n",
    "plt.plot(t,I,linewidth=2,label='I')\n",
    "plt.xlabel('time')\n",
    "plt.ylabel('y(t)')\n",
    "plt.legend()\n",
    "plt.show()"
   ]
  },
  {
   "cell_type": "markdown",
   "metadata": {},
   "source": [
    "----------"
   ]
  },
  {
   "cell_type": "code",
   "execution_count": 187,
   "metadata": {},
   "outputs": [],
   "source": [
    "n = 40\n",
    "T = 10\n",
    "\n",
    "# initial condition\n",
    "y0 = [1,0,0,0]\n",
    "t = np.linspace(0,10,10)\n",
    "\n",
    "y1,y2,y3,y4 = [],[],[],[]\n",
    "\n",
    "for i in range(len(t)):\n",
    "    tspan = [t[i-1],t[i]]\n",
    "    \n",
    "    '''solve ODEs'''\n",
    "    y = odeint(model,y0,tspan,args=(k,))\n",
    "    \n",
    "    y1.append(y[1][0])\n",
    "    y2.append(y[1][1])\n",
    "    y3.append(y[1][2])\n",
    "    y4.append(y[1][3])\n",
    "    \n",
    "    y0 = y[1]"
   ]
  },
  {
   "cell_type": "code",
   "execution_count": 188,
   "metadata": {},
   "outputs": [
    {
     "data": {
      "image/png": "[encoded data removed]",
      "text/plain": [
       "<Figure size 1080x360 with 1 Axes>"
      ]
     },
     "metadata": {},
     "output_type": "display_data"
    }
   ],
   "source": [
    "# plot results\n",
    "plt.figure(figsize = [15,5])\n",
    "plt.plot(t,y1,linewidth=2,label='c3')\n",
    "plt.plot(t,y2,linewidth=2,label='C2')\n",
    "plt.plot(t,y3,linewidth=2,label='C1')\n",
    "plt.plot(t,y4,linewidth=2,label='O')\n",
    "plt.xlabel('time')\n",
    "plt.ylabel('y(t)')\n",
    "plt.legend()\n",
    "plt.show()"
   ]
  }
 ],
 "metadata": {
  "kernelspec": {
   "display_name": "Python 3",
   "language": "python",
   "name": "python3"
  },
  "language_info": {
   "codemirror_mode": {
    "name": "ipython",
    "version": 3
   },
   "file_extension": ".py",
   "mimetype": "text/x-python",
   "name": "python",
   "nbconvert_exporter": "python",
   "pygments_lexer": "ipython3",
   "version": "3.7.1"
  }
 },
 "nbformat": 4,
 "nbformat_minor": 2
}
