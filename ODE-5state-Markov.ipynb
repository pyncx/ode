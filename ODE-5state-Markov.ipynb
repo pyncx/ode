{
 "cells": [
  {
   "cell_type": "markdown",
   "metadata": {},
   "source": [
    "## Eigen Value Method"
   ]
  },
  {
   "cell_type": "code",
   "execution_count": 1,
   "metadata": {},
   "outputs": [],
   "source": [
    "import numpy as np\n",
    "from scipy.integrate import odeint\n",
    "import matplotlib.pyplot as plt\n",
    "import seaborn as sns\n",
    "sns.set()"
   ]
  },
  {
   "cell_type": "markdown",
   "metadata": {},
   "source": [
    "\n",
    "<img src=\"img/five.png\" width=\"50%\" height = \"60%\">"
   ]
  },
  {
   "cell_type": "markdown",
   "metadata": {},
   "source": [
    "### Five State Markov Model"
   ]
  },
  {
   "cell_type": "markdown",
   "metadata": {},
   "source": [
    "$\\large{\\frac{dO(t)}{dt} = k_{io}I(t) + k_{co}C(t) - (k_{oi} + k_{oc})O(t)}$ \n",
    "\n",
    "$\\large{\\frac{dC(t)}{dt} = k_{oc}O(t) + k_{ic}I(t) + k_{pc}P(t) - (k_{co} + k_{ci} + k_{cp})C(t)}$ \n",
    "\n",
    "$\\large{\\frac{dI(t)}{dt} = k_{oi}O(t) + k_{ci}C(t) - (k_{io} + k_{ic})I(t)}$\n",
    "\n",
    "$\\large{\\frac{dP(t)}{dt} = k_{cp}C(t) + k_{qp}Q(t) - (k_{pc} + k_{pq})P(t)}$ \n",
    "\n",
    "$\\large{\\frac{dQ(t)}{dt} = k_{pq}P(t) - k_{qp}Q(t)}$"
   ]
  },
  {
   "cell_type": "markdown",
   "metadata": {},
   "source": [
    "Using $\\large{Q = 1 - I - C - O - P}$ \n",
    "\n",
    "for equilibrium"
   ]
  },
  {
   "cell_type": "markdown",
   "metadata": {},
   "source": [
    "$\\large{k_{io}I(t) + k_{co}C(t) - (k_{oi} + k_{oc})O(t) = 0}$ \n",
    "\n",
    "$\\large{k_{oc}O(t) + k_{ic}I(t) + k_{pc}P(t) - (k_{co} + k_{ci} + k_{cp})C(t) = 0}$ \n",
    "\n",
    "$\\large{k_{oi}O(t) + k_{ci}C(t) - (k_{io} + k_{ic})I(t) = 0}$\n",
    "\n",
    "$\\large{ (k_{qp} - k_{cp})C(t) + (k_{pc} + k_{pq} + k_{qp})P(t) + k_{qp}I(t) + k_{qp}O(t) = k_{qp}}$ "
   ]
  },
  {
   "cell_type": "markdown",
   "metadata": {},
   "source": [
    "#### Algeraic Solution"
   ]
  },
  {
   "cell_type": "markdown",
   "metadata": {},
   "source": [
    "$\\begin{pmatrix}\n",
    "-(k_{oi} + k_{oc}) & k_{co} & k_{io} & 0\\\\\n",
    "k_{oc} & - (k_{co} + k_{ci} + k_{cp}) & k_{ic} & k_{pc}\\\\\n",
    "k_{oi} & k_{ci} & - (k_{io} + k_{ic}) & 0\\\\\n",
    "k_{qp} & (k_{qp} - k_{cp}) &  k_{qp} & (k_{pc} + k_{pq} + k_{qp})\\\\\n",
    "\\end{pmatrix} \\begin{pmatrix}\n",
    "O\\\\\n",
    "C\\\\\n",
    "I\\\\\n",
    "P\\\\\n",
    "\\end{pmatrix} = \\begin{pmatrix}\n",
    "0\\\\\n",
    "0\\\\\n",
    "0\\\\\n",
    "k_{qp}\\\\\n",
    "\\end{pmatrix}$"
   ]
  },
  {
   "cell_type": "code",
   "execution_count": 22,
   "metadata": {},
   "outputs": [],
   "source": [
    "k = {\"koi\":0.32,\\\n",
    "     \"kio\":0.24,\\\n",
    "     \"kco\": 0.31,\\\n",
    "     \"koc\": 0.12,\\\n",
    "     \"kic\":0.32,\\\n",
    "     \"kci\":0.23,\\\n",
    "     \"kcp\": 0.37,\\\n",
    "     \"kpc\":0.22,\\\n",
    "     \"kpq\":0.31,\\\n",
    "     \"kqp\":0.15}"
   ]
  },
  {
   "cell_type": "code",
   "execution_count": 23,
   "metadata": {},
   "outputs": [],
   "source": [
    "A = np.array([[-(k['koi']+k['koc']), k['kco'], k['kio'],0],\n",
    "              [k['koc'], -(k['kco']+k['kci']+k['kcp']), k['kic'],k['kpc']],\n",
    "              [k['koi'], k['kci'], -(k['kio']+k['kic']),0],\n",
    "              [k['kqp'], (k['kqp'] - k['kcp']), k['kqp'],(k['kpc']+k['kpq']+k['kqp'])]])"
   ]
  },
  {
   "cell_type": "code",
   "execution_count": 24,
   "metadata": {},
   "outputs": [
    {
     "data": {
      "text/plain": [
       "array([[-0.44,  0.31,  0.24,  0.  ],\n",
       "       [ 0.12, -0.91,  0.32,  0.22],\n",
       "       [ 0.32,  0.23, -0.56,  0.  ],\n",
       "       [ 0.15, -0.22,  0.15,  0.68]])"
      ]
     },
     "execution_count": 24,
     "metadata": {},
     "output_type": "execute_result"
    }
   ],
   "source": [
    "A"
   ]
  },
  {
   "cell_type": "code",
   "execution_count": 25,
   "metadata": {},
   "outputs": [],
   "source": [
    "b  = np.array([0,0,0,k['kqp']])"
   ]
  },
  {
   "cell_type": "code",
   "execution_count": 26,
   "metadata": {},
   "outputs": [],
   "source": [
    "from numpy import linalg"
   ]
  },
  {
   "cell_type": "code",
   "execution_count": 27,
   "metadata": {},
   "outputs": [],
   "source": [
    "x = np.linalg.solve(A, b)"
   ]
  },
  {
   "cell_type": "code",
   "execution_count": 28,
   "metadata": {},
   "outputs": [
    {
     "data": {
      "text/plain": [
       "array([0.15527393, 0.11509816, 0.13600042, 0.19357418])"
      ]
     },
     "execution_count": 28,
     "metadata": {},
     "output_type": "execute_result"
    }
   ],
   "source": [
    "x"
   ]
  },
  {
   "cell_type": "code",
   "execution_count": 29,
   "metadata": {},
   "outputs": [
    {
     "data": {
      "text/plain": [
       "0.40005330446556486"
      ]
     },
     "execution_count": 29,
     "metadata": {},
     "output_type": "execute_result"
    }
   ],
   "source": [
    "1-sum(x)"
   ]
  },
  {
   "cell_type": "markdown",
   "metadata": {},
   "source": [
    "#### Numerical Solution"
   ]
  },
  {
   "cell_type": "markdown",
   "metadata": {},
   "source": [
    "$\\large{\\frac{dO(t)}{dt} = k_{io}I(t) + k_{co}C(t) - (k_{oi} + k_{oc})O(t)}$ \n",
    "\n",
    "$\\large{\\frac{dC(t)}{dt} = k_{oc}O(t) + k_{ic}I(t) + k_{pc}P(t) - (k_{co} + k_{ci} + k_{cp})C(t)}$ \n",
    "\n",
    "$\\large{\\frac{dI(t)}{dt} = k_{oi}O(t) + k_{ci}C(t) - (k_{io} + k_{ic})I(t)}$\n",
    "\n",
    "$\\large{\\frac{dP(t)}{dt} = k_{cp}C(t) + k_{qp}Q(t) - (k_{pc} + k_{pq})P(t)}$ "
   ]
  },
  {
   "cell_type": "markdown",
   "metadata": {},
   "source": [
    "$\\large{Q = 1 - I - C - O - P}$ "
   ]
  },
  {
   "cell_type": "code",
   "execution_count": 30,
   "metadata": {},
   "outputs": [],
   "source": [
    "# function that returns dy/dt\n",
    "def model(y,t,k):\n",
    "    \n",
    "    '''y[0] = O,\n",
    "       y[1] = C,\n",
    "       y[2] = I,\n",
    "       y[3] = P\n",
    "    '''\n",
    "    \n",
    "    dy1dt = -(k['koi']+k['koc'])*y[0] +  k['kco']*y[1] +  k['kio']*y[2] \n",
    "    \n",
    "    dy2dt = k['koc']*y[0] -(k['kco']+k['kci']+k['kcp'])*y[1] \\\n",
    "         +  k['kic']*y[2] + k['kpc']*y[3]\n",
    "    \n",
    "    dy3dt = k['koi']*y[0] - k['kci']*y[1] -(k['kio']+k['kic'])*y[2] \n",
    "    \n",
    "    dy4dt = k['kqp'] - k['kqp']*y[0] +  (k['kcp']-k['kqp'])*y[1] \\\n",
    "                     - k['kqp']*y[2] - (k['kpc']+k['kpq']+k['kqp'])*y[3]\n",
    "    \n",
    "    \n",
    "    dydt = [dy1dt,dy2dt,dy3dt,dy4dt]\n",
    "    return dydt"
   ]
  },
  {
   "cell_type": "code",
   "execution_count": 31,
   "metadata": {},
   "outputs": [],
   "source": [
    "N = 1\n",
    "T = 20\n",
    "\n",
    "# initial condition\n",
    "y0 = [0,0,0,1]\n",
    "\n",
    "# time points\n",
    "t = np.linspace(0,T)\n",
    "\n",
    "\n",
    "'''solve ODEs'''\n",
    "y = odeint(model,y0,t,args=(k,))\n",
    "\n",
    "\n",
    "y1 = np.empty_like(t)\n",
    "y2 = np.empty_like(t)\n",
    "y3 = np.empty_like(t)\n",
    "y4 = np.empty_like(t)\n",
    "y5 = np.empty_like(t)\n",
    "for i in range(len(t)):\n",
    "    y1[i] = y[i][0]\n",
    "    y2[i] = y[i][1]\n",
    "    y3[i] = y[i][2]\n",
    "    y4[i] = y[i][3]\n",
    "    y5[i] = 1 - y1[i] - y2[i] - y3[i] - y4[i]"
   ]
  },
  {
   "cell_type": "code",
   "execution_count": 32,
   "metadata": {},
   "outputs": [
    {
     "data": {
      "text/plain": [
       "(0.0463109737380542,\n",
       " 0.06417645153854405,\n",
       " -0.0020812933833869447,\n",
       " 0.23673711362355496,\n",
       " 0.6548567544832338)"
      ]
     },
     "execution_count": 32,
     "metadata": {},
     "output_type": "execute_result"
    }
   ],
   "source": [
    "y1[T],y2[T],y3[T],y4[T],y5[T]"
   ]
  },
  {
   "cell_type": "code",
   "execution_count": 33,
   "metadata": {},
   "outputs": [
    {
     "data": {
      "image/png": "[encoded data removed]",
      "text/plain": [
       "<Figure size 1080x360 with 1 Axes>"
      ]
     },
     "metadata": {
      "needs_background": "light"
     },
     "output_type": "display_data"
    }
   ],
   "source": [
    "# plot results\n",
    "plt.figure(figsize = [15,5])\n",
    "plt.plot(t,y1,linewidth=2,label='open')\n",
    "plt.plot(t,y2,linewidth=2,label='closed')\n",
    "plt.plot(t,y3,linewidth=2,label='inactive')\n",
    "plt.plot(t,y4,linewidth=2,label='P')\n",
    "plt.plot(t,y5,linewidth=2,label='Q')\n",
    "plt.xlabel('time')\n",
    "plt.ylabel('y(t)')\n",
    "plt.legend()\n",
    "plt.show()"
   ]
  }
 ],
 "metadata": {
  "kernelspec": {
   "display_name": "Python 3",
   "language": "python",
   "name": "python3"
  },
  "language_info": {
   "codemirror_mode": {
    "name": "ipython",
    "version": 3
   },
   "file_extension": ".py",
   "mimetype": "text/x-python",
   "name": "python",
   "nbconvert_exporter": "python",
   "pygments_lexer": "ipython3",
   "version": "3.7.1"
  }
 },
 "nbformat": 4,
 "nbformat_minor": 2
}
